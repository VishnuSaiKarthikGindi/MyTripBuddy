{
  "nbformat": 4,
  "nbformat_minor": 0,
  "metadata": {
    "colab": {
      "provenance": [],
      "authorship_tag": "ABX9TyPEfgGN06Mg+9MJ99+gek9b",
      "include_colab_link": true
    },
    "kernelspec": {
      "name": "python3",
      "display_name": "Python 3"
    },
    "language_info": {
      "name": "python"
    }
  },
  "cells": [
    {
      "cell_type": "markdown",
      "metadata": {
        "id": "view-in-github",
        "colab_type": "text"
      },
      "source": [
        "<a href=\"https://colab.research.google.com/github/VishnuSaiKarthikGindi/MyTripBuddy/blob/main/Multi_AI_Agent_App.ipynb\" target=\"_parent\"><img src=\"https://colab.research.google.com/assets/colab-badge.svg\" alt=\"Open In Colab\"/></a>"
      ]
    },
    {
      "cell_type": "code",
      "source": [
        "!pip install -U langchain_community langchain_core tiktoken langchainhub langchain langchain_openai openai langgraph pinecone-client googlemaps langchain_pinecone pydantic"
      ],
      "metadata": {
        "id": "2-8xluZi8VIW"
      },
      "execution_count": null,
      "outputs": []
    },
    {
      "cell_type": "code",
      "source": [
        "from langchain.agents import initialize_agent, Tool\n",
        "from langchain.agents.agent_toolkits import AmadeusToolkit\n",
        "from langchain_community.utilities import OpenWeatherMapAPIWrapper\n",
        "from langchain_community.tools import OpenWeatherMapQueryRun\n",
        "import googlemaps\n",
        "from langchain.llms import OpenAI\n",
        "from langchain.tools import tool\n",
        "from bs4 import BeautifulSoup\n",
        "from langchain.tools.base import BaseTool\n",
        "import requests"
      ],
      "metadata": {
        "id": "6AraQ72wHRON"
      },
      "execution_count": null,
      "outputs": []
    },
    {
      "cell_type": "code",
      "source": [
        "from langchain.document_loaders import WebBaseLoader\n",
        "from langchain.text_splitter import RecursiveCharacterTextSplitter\n",
        "from langchain.embeddings.huggingface import HuggingFaceEmbeddings\n",
        "from pinecone import Pinecone, ServerlessSpec\n",
        "from langchain_pinecone import PineconeVectorStore\n",
        "from langchain.indexes.vectorstore import VectorStoreIndexWrapper\n",
        "from langchain.embeddings import OpenAIEmbeddings\n",
        "import pinecone\n",
        "import os\n",
        "\n",
        "from dotenv import load_dotenv\n",
        "load_dotenv()"
      ],
      "metadata": {
        "colab": {
          "base_uri": "https://localhost:8080/"
        },
        "id": "UfWDlh3GTDIc",
        "outputId": "3a8623e0-7cfa-4074-a532-eb40f5254640"
      },
      "execution_count": 5,
      "outputs": [
        {
          "output_type": "stream",
          "name": "stderr",
          "text": [
            "WARNING:langchain_community.utils.user_agent:USER_AGENT environment variable not set, consider setting it to identify your requests.\n"
          ]
        },
        {
          "output_type": "execute_result",
          "data": {
            "text/plain": [
              "True"
            ]
          },
          "metadata": {},
          "execution_count": 5
        }
      ]
    },
    {
      "cell_type": "code",
      "source": [
        "FAQs = {\n",
        "    \"Airlines_FAQs\": [\"https://www.aa.com/i18n/customer-service/faqs/customer-service-faqs.jsp\",\n",
        "                        \"https://www.delta.com/us/en/travel-planning-center/travel-planning-faqs?srsltid=AfmBOoq5-LF55hW4-i9LORhmYi80_zTM4DBbTSz-mZKiAeYQsGsPwkvk\",\n",
        "                        \"https://www.united.com/en/us/fly/help-center.html\",\n",
        "                        \"https://faq.flyfrontier.com/help\"],\n",
        "    \"Hotel_FAQs\": [ \"https://www.expedia.com/helpcenter/?pwaDialog=article-dialog&product=Lodging&productId=lodging\",\n",
        "                 \"https://www.wyndhamhotels.com/wyndham/contact-us/faq\",\n",
        "                  \"https://www.booking.com/tpi_faq.html\"\n",
        "                ]\n",
        "    }"
      ],
      "metadata": {
        "id": "q-oPH1YaXr0m"
      },
      "execution_count": 7,
      "outputs": []
    },
    {
      "cell_type": "code",
      "source": [
        "embeddings = OpenAIEmbeddings(openai_api_key = os.environ[\"OPENAI_API_KEY\"])"
      ],
      "metadata": {
        "colab": {
          "base_uri": "https://localhost:8080/"
        },
        "id": "5u1jKqij86qk",
        "outputId": "c6f3870d-5d8f-4b2a-abd0-75ded681870c"
      },
      "execution_count": 4,
      "outputs": [
        {
          "output_type": "stream",
          "name": "stderr",
          "text": [
            "<ipython-input-4-b082dd00b321>:1: LangChainDeprecationWarning: The class `OpenAIEmbeddings` was deprecated in LangChain 0.0.9 and will be removed in 1.0. An updated version of the class exists in the :class:`~langchain-openai package and should be used instead. To use it run `pip install -U :class:`~langchain-openai` and import as `from :class:`~langchain_openai import OpenAIEmbeddings``.\n",
            "  embeddings = OpenAIEmbeddings(openai_api_key = os.environ[\"OPENAI_API_KEY\"])\n"
          ]
        }
      ]
    },
    {
      "cell_type": "code",
      "source": [
        "class LangGraphVectorStore:\n",
        "    def __init__(self, pinecone_api_key: str, pinecone_environment: str, index_name: str):\n",
        "        # Initialize Pinecone\n",
        "        pc = Pinecone(api_key=pinecone_api_key)\n",
        "        self.index_name = index_name\n",
        "        existing_indexes = [index_info[\"name\"] for index_info in pc.list_indexes()]\n",
        "\n",
        "        if self.index_name not in existing_indexes:\n",
        "          pc.create_index(\n",
        "                        name=index_name,\n",
        "                        dimension=1536,\n",
        "                        metric=\"cosine\",\n",
        "                        spec=ServerlessSpec(cloud=\"aws\", region=\"us-east-1\"),\n",
        "                      )\n",
        "        index = pc.Index(index_name)\n",
        "\n",
        "        # Initialize embeddings\n",
        "        self.embeddings = OpenAIEmbeddings(openai_api_key = os.environ[\"OPENAI_API_KEY\"])\n",
        "        self.vectorstore = PineconeVectorStore(index=index, embedding=self.embeddings)\n",
        "\n",
        "    def load_and_split_docs(self, urls):\n",
        "        # Load documents\n",
        "        docs = [WebBaseLoader(url).load() for url in urls]\n",
        "        docs_list = [item for sublist in docs for item in sublist]\n",
        "\n",
        "        # Split documents\n",
        "        text_splitter = RecursiveCharacterTextSplitter.from_tiktoken_encoder(\n",
        "            chunk_size=500, chunk_overlap=0\n",
        "        )\n",
        "        return text_splitter.split_documents(docs_list)\n",
        "\n",
        "    def add_documents(self, urls):\n",
        "        # Load and split documents\n",
        "        doc_splits = self.load_and_split_docs(urls)\n",
        "\n",
        "        # Add documents to the vector store\n",
        "        self.vectorstore.add_documents(doc_splits)\n",
        "        print(f\"Inserted {len(doc_splits)} documents.\")\n",
        "        return doc_splits\n",
        "\n",
        "    def create_index_wrapper(self):\n",
        "        # Create a wrapper around the vector store\n",
        "        return VectorStoreIndexWrapper(vectorstore=self.vectorstore)\n",
        "\n",
        "    def retrieve_documents(self):\n",
        "        # Get retriever\n",
        "        return self.vectorstore.as_retriever()\n",
        "\n",
        "# Example usage\n",
        "if __name__ == \"__main__\":\n",
        "    # Initialize the LangGraphVectorStore with Pinecone credentials\n",
        "    pinecone_api_key = os.getenv(\"PINECONE_API_KEY\")\n",
        "    pinecone_environment = \"aws-starter\"\n",
        "    index_name = \"mytripbuddy\"\n",
        "\n",
        "    lang_graph = LangGraphVectorStore(\n",
        "        pinecone_api_key=pinecone_api_key,\n",
        "        pinecone_environment=pinecone_environment,\n",
        "        index_name=index_name\n",
        "    )\n",
        "\n",
        "    # Add Airline FAQs\n",
        "    print(\"Indexing Airline FAQs...\")\n",
        "    airline_docs = lang_graph.add_documents(FAQs[\"Airlines_FAQs\"])\n",
        "\n",
        "    # Add Hotel FAQs\n",
        "    print(\"Indexing Hotel FAQs...\")\n",
        "    hotel_docs = lang_graph.add_documents(FAQs[\"Hotel_FAQs\"])\n",
        "\n",
        "    # Create index wrapper and retriever\n",
        "    vector_index = lang_graph.create_index_wrapper()\n",
        "    retriever = lang_graph.retrieve_documents()"
      ],
      "metadata": {
        "colab": {
          "base_uri": "https://localhost:8080/"
        },
        "id": "kqhpryA6Xr39",
        "outputId": "d4717079-4f5c-4ca2-c6df-851232223592"
      },
      "execution_count": 10,
      "outputs": [
        {
          "output_type": "stream",
          "name": "stderr",
          "text": [
            "<ipython-input-10-7c83e92ca316>:18: LangChainDeprecationWarning: The class `OpenAIEmbeddings` was deprecated in LangChain 0.0.9 and will be removed in 1.0. An updated version of the class exists in the :class:`~langchain-openai package and should be used instead. To use it run `pip install -U :class:`~langchain-openai` and import as `from :class:`~langchain_openai import OpenAIEmbeddings``.\n",
            "  self.embeddings = OpenAIEmbeddings(openai_api_key = os.environ[\"OPENAI_API_KEY\"])\n"
          ]
        },
        {
          "output_type": "stream",
          "name": "stdout",
          "text": [
            "Indexing Airline FAQs...\n",
            "Inserted 33 documents.\n",
            "Indexing Hotel FAQs...\n",
            "Inserted 21 documents.\n"
          ]
        }
      ]
    },
    {
      "cell_type": "code",
      "source": [
        "retriever.invoke(\"What is cancellation policy for hotel?\")"
      ],
      "metadata": {
        "id": "1Rh36RFJvfig"
      },
      "execution_count": null,
      "outputs": []
    },
    {
      "cell_type": "code",
      "source": [
        "from typing import Literal\n",
        "from langchain_core.prompts import ChatPromptTemplate\n",
        "from langchain_core.pydantic_v1 import BaseModel, Field\n",
        "from langchain.agents.agent_types import AgentType\n",
        "from langchain.schema import AgentAction, AgentFinish\n",
        "from langchain.chat_models import ChatOpenAI\n",
        "from langchain.chains.conversation.memory import ConversationBufferWindowMemory"
      ],
      "metadata": {
        "colab": {
          "base_uri": "https://localhost:8080/"
        },
        "id": "9_lfmwFDzN_I",
        "outputId": "a54314f1-3dfb-4124-c859-6f1ce87ed23c"
      },
      "execution_count": 7,
      "outputs": [
        {
          "output_type": "stream",
          "name": "stderr",
          "text": [
            "/usr/local/lib/python3.10/dist-packages/IPython/core/interactiveshell.py:3553: LangChainDeprecationWarning: As of langchain-core 0.3.0, LangChain uses pydantic v2 internally. The langchain_core.pydantic_v1 module was a compatibility shim for pydantic v1, and should no longer be used. Please update the code to import from Pydantic directly.\n",
            "\n",
            "For example, replace imports like: `from langchain_core.pydantic_v1 import BaseModel`\n",
            "with: `from pydantic import BaseModel`\n",
            "or the v1 compatibility namespace if you are working in a code base that has not been fully upgraded to pydantic 2 yet. \tfrom pydantic.v1 import BaseModel\n",
            "\n",
            "  exec(code_obj, self.user_global_ns, self.user_ns)\n"
          ]
        }
      ]
    },
    {
      "cell_type": "code",
      "source": [
        "import requests\n",
        "import os\n",
        "\n",
        "class TripAdvisorAPI:\n",
        "    def __init__(self, api_key, base_url=\"https://api.content.tripadvisor.com/api/v1\"):\n",
        "        \"\"\"\n",
        "        Initialize the API client.\n",
        "\n",
        "        :param api_key: The API key for accessing TripAdvisor endpoints.\n",
        "        :param base_url: The base URL for the TripAdvisor API.\n",
        "        \"\"\"\n",
        "        self.api_key = api_key\n",
        "        self.base_url = base_url\n",
        "\n",
        "    def _make_request(self, endpoint, params):\n",
        "        \"\"\"\n",
        "        Helper method to make API requests.\n",
        "\n",
        "        :param endpoint: The API endpoint to call.\n",
        "        :param params: Query parameters for the request.\n",
        "        :return: JSON response or None in case of failure.\n",
        "        \"\"\"\n",
        "        headers = {\"Accept\": \"application/json\"}\n",
        "        try:\n",
        "            response = requests.get(f\"{self.base_url}/{endpoint}\", headers=headers, params=params)\n",
        "            response.raise_for_status()\n",
        "            return response.json()\n",
        "        except requests.exceptions.RequestException as e:\n",
        "            print(f\"API Request failed: {e}\")\n",
        "            return None\n",
        "\n",
        "    def search_location(self, search_query, category=None, phone=None, address=None, lat_long=None, radius=None, radius_unit=None, language=\"en\"):\n",
        "        \"\"\"\n",
        "        Search for a location by name, category, phone, or coordinates.\n",
        "\n",
        "        :param search_query: Name of the location to search for.\n",
        "        :param category: Optional filter by category (e.g., hotels, attractions).\n",
        "        :param phone: Optional filter by phone number.\n",
        "        :param address: Optional filter by address.\n",
        "        :param lat_long: Optional latitude/longitude pair (e.g., \"42.3455,-71.10767\").\n",
        "        :param radius: Optional radius for filtering results.\n",
        "        :param radius_unit: Unit for radius (e.g., km, mi).\n",
        "        :param language: Language for the results (default is \"en\").\n",
        "        :return: JSON response containing location search results.\n",
        "        \"\"\"\n",
        "        endpoint = \"location/search\"\n",
        "        params = {\n",
        "            \"key\": self.api_key,\n",
        "            \"searchQuery\": search_query,\n",
        "            \"category\": category,\n",
        "            \"phone\": phone,\n",
        "            \"address\": address,\n",
        "            \"latLong\": lat_long,\n",
        "            \"radius\": radius,\n",
        "            \"radiusUnit\": radius_unit,\n",
        "            \"language\": language\n",
        "        }\n",
        "        return self._make_request(endpoint, params)\n",
        "\n",
        "    def get_location_details(self, location_id, language=\"en\", currency=\"USD\"):\n",
        "        \"\"\"\n",
        "        Get detailed information about a specific location.\n",
        "\n",
        "        :param location_id: The unique TripAdvisor location ID.\n",
        "        :param language: Language for the results (default is \"en\").\n",
        "        :param currency: Currency for the results (default is \"USD\").\n",
        "        :return: JSON response containing location details.\n",
        "        \"\"\"\n",
        "        endpoint = f\"location/{location_id}/details\"\n",
        "        params = {\n",
        "            \"key\": self.api_key,\n",
        "            \"language\": language,\n",
        "            \"currency\": currency\n",
        "        }\n",
        "        return self._make_request(endpoint, params)\n",
        "\n",
        "    def nearby_search(self, lat_long, category=None, radius=None, radius_unit=\"km\", language=\"en\"):\n",
        "        \"\"\"\n",
        "        Search for nearby locations based on latitude/longitude.\n",
        "\n",
        "        :param lat_long: Latitude/Longitude pair (e.g., \"42.3455,-71.10767\").\n",
        "        :param category: Optional filter by category (e.g., hotels, attractions).\n",
        "        :param radius: Optional radius for filtering results.\n",
        "        :param radius_unit: Unit for radius (default is \"km\").\n",
        "        :param language: Language for the results (default is \"en\").\n",
        "        :return: JSON response containing nearby search results.\n",
        "        \"\"\"\n",
        "        endpoint = \"location/nearby_search\"\n",
        "        params = {\n",
        "            \"key\": self.api_key,\n",
        "            \"latLong\": lat_long,\n",
        "            \"category\": category,\n",
        "            \"radius\": radius,\n",
        "            \"radiusUnit\": radius_unit,\n",
        "            \"language\": language\n",
        "        }\n",
        "        return self._make_request(endpoint, params)"
      ],
      "metadata": {
        "id": "cQMp8pO_0tJ_"
      },
      "execution_count": 8,
      "outputs": []
    },
    {
      "cell_type": "code",
      "source": [
        "from typing import Dict, Any, Type\n",
        "from pydantic import BaseModel, Field\n",
        "from langchain.tools import BaseTool\n",
        "import ast\n",
        "import regex as re\n",
        "\n",
        "# Define Pydantic schema for tool arguments\n",
        "class SearchAccommodationAndAttractionsArgs(BaseModel):\n",
        "    query: str = Field(..., description=\"Natural language query for accommodations or attractions.\")\n",
        "\n",
        "# Define the tool class\n",
        "class SearchAccommodationAndAttractions(BaseTool):\n",
        "    name: str = \"SearchAccommodationAndAttractions\"\n",
        "    description: str = (\n",
        "                \"Search for hotels, attractions, and restaurants using the TripAdvisor API. \"\n",
        "                \"Input should be a dictionary with keys: 'location' (required), 'type' (required: 'hotels', 'attractions', or 'restaurants'), \"\n",
        "                \"and optionally 'radius', 'radius_unit', and 'language'. Returns relevant information about the specified type near the given location.\"\n",
        "    )\n",
        "\n",
        "    args_schema: Type[BaseModel] = SearchAccommodationAndAttractionsArgs\n",
        "    api_client: TripAdvisorAPI  # Declare API client as a field\n",
        "\n",
        "    def _run(self, query: str) -> Dict[str, Any]:\n",
        "      def parse_user_query(query: str) -> Dict[str, Any]:\n",
        "          parsed_query = {\"language\": \"en\"}\n",
        "\n",
        "          try:\n",
        "              # Attempt to parse the query as a dictionary-like string\n",
        "              query_dict = ast.literal_eval(query)\n",
        "              if isinstance(query_dict, dict):\n",
        "                  parsed_query[\"searchQuery\"] = query_dict.get(\"location\", \"\")\n",
        "                  parsed_query[\"category\"] = query_dict.get(\"type\", \"\")\n",
        "                  parsed_query[\"radius\"] = query_dict.get(\"radius\", None)\n",
        "                  parsed_query[\"radiusUnit\"] = query_dict.get(\"radiusUnit\", None)\n",
        "                  return parsed_query\n",
        "          except (ValueError, SyntaxError):\n",
        "              # If the query is not a dictionary-like string, proceed with natural language parsing\n",
        "              pass\n",
        "\n",
        "          # Define patterns for different query types\n",
        "          patterns = {\n",
        "              \"top_attractions\": r\"top attractions in (?P<location>.+)\",\n",
        "              \"must_visit\": r\"must-visit places in (?P<location>.+)\",\n",
        "              \"best_things_to_do\": r\"best things to do in (?P<location>.+) for (?P<type>families|couples|solo travelers)\",\n",
        "              \"budget_friendly\": r\"free or budget-friendly attractions in (?P<location>.+)\",\n",
        "              \"hidden_gems\": r\"hidden gems in (?P<location>.+)\",\n",
        "              \"cultural_landmarks\": r\"cultural or historical landmarks in (?P<location>.+)\",\n",
        "              \"outdoor_activities\": r\"outdoor activities or natural attractions in (?P<location>.+)\",\n",
        "              \"best_time_to_visit\": r\"best time to visit (?P<attraction>.+)\",\n",
        "              \"crowded_times\": r\"is (?P<attraction>.+) crowded during weekends/holidays\",\n",
        "              \"best_season\": r\"best season to visit (?P<location>.+)\"\n",
        "          }\n",
        "\n",
        "          # Extract information using regex patterns\n",
        "          for key, pattern in patterns.items():\n",
        "              match = re.search(pattern, query, re.IGNORECASE)\n",
        "              if match:\n",
        "                  parsed_query.update(match.groupdict())\n",
        "                  if key in [\"best_things_to_do\", \"cultural_landmarks\", \"outdoor_activities\"]:\n",
        "                      parsed_query[\"category\"] = \"attractions\"\n",
        "                  elif key == \"budget_friendly\":\n",
        "                      parsed_query[\"category\"] = \"budget\"\n",
        "                  return parsed_query\n",
        "\n",
        "          tokens = query.lower().split()\n",
        "          categories = {\"hotels\", \"attractions\", \"restaurants\"}\n",
        "\n",
        "          # Extract category from the query\n",
        "          for category in categories:\n",
        "              if category in tokens:\n",
        "                  parsed_query[\"category\"] = category\n",
        "                  break\n",
        "\n",
        "          # Extract location or POI\n",
        "          if \"near\" in tokens:\n",
        "              idx = tokens.index(\"near\") + 1\n",
        "              if idx < len(tokens):\n",
        "                  parsed_query[\"searchQuery\"] = \" \".join(tokens[idx:])\n",
        "\n",
        "          # Extract radius if mentioned\n",
        "          if \"within\" in tokens:\n",
        "              idx = tokens.index(\"within\") + 1\n",
        "              try:\n",
        "                  parsed_query[\"radius\"] = int(tokens[idx])\n",
        "                  if idx + 1 < len(tokens) and tokens[idx + 1] in {\"km\", \"mi\"}:\n",
        "                      parsed_query[\"radiusUnit\"] = tokens[idx + 1]\n",
        "              except (ValueError, IndexError):\n",
        "                  pass\n",
        "\n",
        "          return parsed_query\n",
        "\n",
        "      query_params = parse_user_query(query)\n",
        "      if \"latLong\" in query_params:\n",
        "          results = self.api_client.nearby_search(\n",
        "              lat_long=query_params.get(\"latLong\"),\n",
        "              category=query_params.get(\"category\"),\n",
        "              radius=query_params.get(\"radius\"),\n",
        "              radius_unit=query_params.get(\"radiusUnit\"),\n",
        "              language=query_params.get(\"language\"),\n",
        "          )\n",
        "      else:\n",
        "          results = self.api_client.search_location(\n",
        "                search_query=query_params.get(\"searchQuery\"),\n",
        "                category=query_params.get(\"category\"),\n",
        "                radius=query_params.get(\"radius\"),\n",
        "                radius_unit=query_params.get(\"radiusUnit\"),\n",
        "                language=query_params.get(\"language\"),\n",
        "          )\n",
        "      return results\n",
        "\n",
        "    def _arun(self, query: str) -> Dict[str, Any]:\n",
        "        raise NotImplementedError(\"This tool does not support async\")"
      ],
      "metadata": {
        "id": "FVR5St7LrqbE"
      },
      "execution_count": 30,
      "outputs": []
    },
    {
      "cell_type": "code",
      "source": [
        "# Initialize the Amadeus Toolkit\n",
        "toolkit = AmadeusToolkit()\n",
        "amadeus_tool = toolkit.get_tools()\n",
        "\n",
        "# Initialize OpenWeatherMap Wrapper\n",
        "weather_wrapper = OpenWeatherMapAPIWrapper(\n",
        "    top_k_results=1, doc_content_chars_max=200\n",
        ")\n",
        "weather_tool = Tool(\n",
        "    name=\"WeatherQuery\",\n",
        "    description=\"Fetch weather information for a specific location using OpenWeatherMap.\",\n",
        "    func=weather_wrapper.run\n",
        ")\n",
        "\n",
        "# Initialize Google Maps for routes\n",
        "gmaps = googlemaps.Client(key=os.getenv(\"GOOGLE_MAPS_API_KEY\"))\n",
        "\n",
        "def get_route(origin: str, destination: str) -> str:\n",
        "    \"\"\"\n",
        "    Fetches driving route from Google Maps.\n",
        "    Args:\n",
        "        origin (str): The starting location.\n",
        "        destination (str): The destination location.\n",
        "    Returns:\n",
        "        str: A text-based driving itinerary.\n",
        "    \"\"\"\n",
        "    directions = gmaps.directions(origin, destination, mode=\"driving\")\n",
        "    if directions:\n",
        "        steps = directions[0][\"legs\"][0][\"steps\"]\n",
        "        itinerary = \"Driving Route:\\n\"\n",
        "        for step in steps:\n",
        "            itinerary += f\"{step['html_instructions']} for {step['distance']['text']}\\n\"\n",
        "        return itinerary\n",
        "    return \"No route found.\"\n",
        "\n",
        "route_tool = Tool(\n",
        "    name=\"RouteQuery\",\n",
        "    description=\"Fetch driving directions from one location to another.\",\n",
        "    func=lambda x: get_route(x['origin'], x['destination'])\n",
        ")"
      ],
      "metadata": {
        "id": "8YjIXW969m5H"
      },
      "execution_count": null,
      "outputs": []
    },
    {
      "cell_type": "code",
      "source": [
        "# Tools for the travel agent\n",
        "tools = [amadeus_tool, weather_tool, route_tool]\n",
        "\n",
        "# Initialize TripAdvisor API tool\n",
        "tripadvisor_api = TripAdvisorAPI(api_key=os.getenv(\"TRIPADVISOR_API_KEY\"))\n",
        "search_tool = SearchAccommodationAndAttractions(api_client=tripadvisor_api)\n",
        "tools.append(search_tool)\n",
        "\n",
        "# Set up the turbo LLM\n",
        "llm = ChatOpenAI(\n",
        "    temperature=0,\n",
        "    model_name='gpt-3.5-turbo'\n",
        ")\n",
        "\n",
        "# Integrate tools with a React agent\n",
        "agent = create_react_agent(\n",
        "    llm,\n",
        "    tools,\n",
        "    prompt=ChatPromptTemplate.from_messages(\n",
        "        [\n",
        "            (\"system\", \"You are a travel assistant.\"),\n",
        "            (\"human\", \"{input}\"),\n",
        "        ]\n",
        "    )\n",
        ")\n",
        "\n",
        "# Initialize vectorstore retriever\n",
        "vectorstore_retriever = lang_graph.retrieve_documents()"
      ],
      "metadata": {
        "id": "myZIFEGS-Nls"
      },
      "execution_count": null,
      "outputs": []
    },
    {
      "cell_type": "code",
      "source": [
        "### Data model ###\n",
        "class RouteQuery(BaseModel):\n",
        "    \"\"\"\n",
        "    Route a user query to the most relevant datasource.\n",
        "    \"\"\"\n",
        "    datasource: Literal[\"tools\", \"vectorstore\"] = Field(\n",
        "        ...,\n",
        "        description=\"Route user questions to tools or the vectorstore agent.\"\n",
        "    )\n",
        "\n",
        "### Routing ###\n",
        "route_prompt = ChatPromptTemplate.from_messages(\n",
        "    [\n",
        "        (\"system\", \"\"\"\n",
        "        You are an expert at routing a user question to tools or vectorstore.\n",
        "        Use tools for queries related to flights, weather, routes, accommodations, and attractions.\n",
        "        Use the vectorstore for indexed topics such as FAQs and technical concepts.\n",
        "        \"\"\"),\n",
        "        (\"human\", \"{question}\"),\n",
        "    ]\n",
        ")\n",
        "\n",
        "def route_question(state):\n",
        "    \"\"\"\n",
        "    Routes the user's question to the appropriate agent.\n",
        "    \"\"\"\n",
        "    question = state[\"question\"]\n",
        "    result = route_prompt.invoke({\"question\": question})\n",
        "    if result.datasource == \"tools\":\n",
        "        return \"tools_agent\"\n",
        "    return \"vectorstore\"\n",
        "\n",
        "def retrieve_documents(state):\n",
        "    \"\"\"\n",
        "    Retrieves documents from the vectorstore.\n",
        "    \"\"\"\n",
        "    question = state[\"question\"]\n",
        "    documents = vectorstore_retriever.retrieve_documents(question)\n",
        "    return {\"documents\": documents}\n",
        "\n",
        "def execute_tools(state):\n",
        "    \"\"\"\n",
        "    Executes tools for query resolution.\n",
        "    \"\"\"\n",
        "    question = state[\"question\"]\n",
        "    result = agent.run(question)\n",
        "    return {\"generation\": result}"
      ],
      "metadata": {
        "id": "3eKt5QHs_FuD"
      },
      "execution_count": null,
      "outputs": []
    },
    {
      "cell_type": "code",
      "source": [
        "### Workflow ###\n",
        "from langgraph.graph import StateGraph, START, END\n",
        "\n",
        "workflow = StateGraph(GraphState)\n",
        "\n",
        "workflow.add_conditional_edges(\n",
        "    START,\n",
        "    route_question,\n",
        "    {\"tools_agent\": \"tools_agent\", \"vectorstore\": \"vectorstore\"},\n",
        ")\n",
        "\n",
        "workflow.add_node(\"tools_agent\", execute_tools)\n",
        "workflow.add_node(\"vectorstore\", retrieve_documents)\n",
        "\n",
        "workflow.add_edge(\"tools_agent\", END)\n",
        "workflow.add_edge(\"vectorstore\", END)\n",
        "\n",
        "app = workflow.compile()\n",
        "\n",
        "### Running Queries ###\n",
        "inputs = {\"question\": \"What are the best attractions in Paris?\"}\n",
        "for output in app.stream(inputs):\n",
        "    print(output)"
      ],
      "metadata": {
        "id": "oHgr_8om_LQd"
      },
      "execution_count": null,
      "outputs": []
    },
    {
      "cell_type": "code",
      "source": [
        "from IPython.display import Image, display\n",
        "\n",
        "try:\n",
        "    display(Image(app.get_graph().draw_mermaid_png()))\n",
        "except Exception:\n",
        "    # This requires some extra dependencies and is optional\n",
        "    pass"
      ],
      "metadata": {
        "id": "18IOXCYq_ToK"
      },
      "execution_count": null,
      "outputs": []
    }
  ]
}